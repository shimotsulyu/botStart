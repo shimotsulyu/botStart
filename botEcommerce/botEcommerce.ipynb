{
 "cells": [
  {
   "cell_type": "code",
   "execution_count": null,
   "metadata": {},
   "outputs": [],
   "source": [
    "from selenium import webdriver\n",
    "from selenium.webdriver.common.keys import Keys\n",
    "import time\n",
    "import random\n",
    "print('class startShopee loaded')\n",
    "class startShopee:\n",
    "    def __init__(self,bot,usuario,senha,target,t=2,viewuser=False):\n",
    "        self.bot = bot\n",
    "        bot.openweb('https://seller.shopee.com.br/'+target)\n",
    "        time.sleep(t)\n",
    "        if viewuser is True:\n",
    "            print('login com:',usuario)\n",
    "        if senha is not None:\n",
    "            print('Autenticado com a senha.')\n",
    "        pusuario ='//input[@placeholder=\"E-mail / Telefone / Nome de usuário\"]'\n",
    "        psenha = '//input[@placeholder=\"Senha\"]'\n",
    "        bot.login(usuario,senha,pusuario,psenha)\n",
    "        time.sleep(2+t)\n",
    "    def buscarcliente(self,cliente,t=2):\n",
    "        bot = self.bot\n",
    "        bot.inserirtexto('//input[@placeholder=\"Pesquisar pedidos\"]',cliente)\n",
    "        time.sleep(t)"
   ]
  },
  {
   "cell_type": "code",
   "execution_count": null,
   "metadata": {},
   "outputs": [],
   "source": []
  }
 ],
 "metadata": {
  "kernelspec": {
   "display_name": "Python 3",
   "language": "python",
   "name": "python3"
  },
  "language_info": {
   "codemirror_mode": {
    "name": "ipython",
    "version": 3
   },
   "file_extension": ".py",
   "mimetype": "text/x-python",
   "name": "python",
   "nbconvert_exporter": "python",
   "pygments_lexer": "ipython3",
   "version": "3.7.7"
  }
 },
 "nbformat": 4,
 "nbformat_minor": 4
}
