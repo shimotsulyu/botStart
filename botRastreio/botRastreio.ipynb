{
 "cells": [
  {
   "cell_type": "code",
   "execution_count": 3,
   "metadata": {},
   "outputs": [
    {
     "name": "stdout",
     "output_type": "stream",
     "text": [
      "class startMuambator loaded\n",
      "class startCorreios loaded\n"
     ]
    }
   ],
   "source": [
    "import time\n",
    "import pandas as pd\n",
    "\n",
    "class startMuambator:\n",
    "    print('class startMuambator loaded')\n",
    "    def __init__(self,bot,usuario,senha,target,t=2,viewuser=False):\n",
    "        self.bot = bot\n",
    "        bot.openweb('https://www.muambator.com.br/'+target)\n",
    "        time.sleep(t)\n",
    "        if viewuser is True:\n",
    "            print('login com:',usuario)\n",
    "        if senha is not None:\n",
    "            print('Autenticado com a senha.')\n",
    "        pusuario ='//input[@id=\"username-form\"]'\n",
    "        psenha = '//input[@id=\"password-form\"]'\n",
    "        bot.login(usuario,senha,pusuario,psenha)\n",
    "        time.sleep(2+t)\n",
    "   \n",
    "    def rastreioClientes(self,t=2):\n",
    "        bot = self.bot\n",
    "        bot.rolarbarra(1)\n",
    "        paginas = bot.coletarinfo('//*[@id=\"wrapper\"]/div[3]/div[1]/div[3]/nav/ul/li[1]')\n",
    "        paginas = int(paginas[0].split('de')[1].strip()[0:-1])\n",
    "        dataFULL = pd.DataFrame()\n",
    "        time.sleep(t)\n",
    "        for i in range(1,paginas):\n",
    "            bot.openweb('https://www.muambator.com.br/pacotes/pendentes/?page='+str(i))\n",
    "            time.sleep(2+t)\n",
    "            data = pd.DataFrame()\n",
    "            bot.rolarbarra(1)\n",
    "            idvenda = bot.coletarinfo('//td[@class=\"title\"]/span[1]')\n",
    "            cliente = bot.coletarinfo('//td[@class=\"title\"]/a[@href]')\n",
    "            situacao = bot.coletarinfo('//td[@class=\"text-center infos\"]/img[1]','data-original-title')\n",
    "            postagem = bot.coletarinfo('//td[@class=\"text-center infos\"]/small[1]')\n",
    "            tempo = bot.coletarinfo('//td[@class=\"title\"]/small[1]')\n",
    "            link = bot.coletarinfo('//td[@class=\"title\"]/a[@href]','href')\n",
    "            data['idvenda'] = idvenda\n",
    "            data['cliente'] = cliente            #bot.openweb(link)\n",
    "            #bot.click('//*[@id=\"add_package\"]/button')\n",
    "            data['situacao'] = situacao\n",
    "            data['postagem'] = postagem\n",
    "            data['tempo'] = tempo\n",
    "            data['link'] = link\n",
    "            dataFULL = dataFULL.append(data)\n",
    "            time.sleep(2+t)\n",
    "        dataFULL = dataFULL.reset_index(drop=True)\n",
    "        print('FIM rastreioClientes')\n",
    "        return dataFULL\n",
    "    \n",
    "    def cadastro(self,envios,link):\n",
    "        bot = self.bot\n",
    "        print(len(envios), 'rastreios')\n",
    "        for i in range(0,len(envios)):\n",
    "            print(i+1,'cadastrando:',envios['Nome do destinatário'][i])\n",
    "            print('    ',envios['Número de rastreamento'][i],'|',envios['ID do pedido'][i])\n",
    "            time.sleep(1)\n",
    "            try:\n",
    "                self.preencher(envios,i)\n",
    "            except:\n",
    "                bot.reload()\n",
    "                time.sleep(0.5)\n",
    "                self.preencher(envios,i)\n",
    "                \n",
    "        print('****Todos os rastreios foram cadastrados!')\n",
    "        time.sleep(5)\n",
    "        \n",
    "    def preencher(self,envios,i):\n",
    "        bot = self.bot\n",
    "        bot.inserirtexto('//*[@id=\"id_codigo\"]',envios['Número de rastreamento'][i],enter=False,fast=True,t=1)\n",
    "        bot.inserirtexto('//*[@id=\"id_nome\"]',envios['Nome do destinatário'][i].split(' ')[0]+' '+envios['Nome do destinatário'][i].split(' ')[-1]+' '+envios['ID do pedido'][i],enter=True,fast=True)\n",
    "        time.sleep(1)\n",
    "        \n",
    "class startCorreios:\n",
    "    print('class startCorreios loaded')\n",
    "    def __init__(self,bot,target,t=2):\n",
    "        self.bot = bot\n",
    "        bot.openweb('https://www2.correios.com.br/'+target)\n",
    "        time.sleep(t)"
   ]
  },
  {
   "cell_type": "code",
   "execution_count": null,
   "metadata": {},
   "outputs": [],
   "source": []
  }
 ],
 "metadata": {
  "kernelspec": {
   "display_name": "Python 3",
   "language": "python",
   "name": "python3"
  },
  "language_info": {
   "codemirror_mode": {
    "name": "ipython",
    "version": 3
   },
   "file_extension": ".py",
   "mimetype": "text/x-python",
   "name": "python",
   "nbconvert_exporter": "python",
   "pygments_lexer": "ipython3",
   "version": "3.8.3"
  }
 },
 "nbformat": 4,
 "nbformat_minor": 4
}
